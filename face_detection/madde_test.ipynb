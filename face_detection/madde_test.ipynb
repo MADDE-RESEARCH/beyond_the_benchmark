{
 "cells": [
  {
   "cell_type": "code",
   "execution_count": null,
   "metadata": {},
   "outputs": [],
   "source": [
    "from deepface import DeepFace"
   ]
  },
  {
   "cell_type": "code",
   "execution_count": 2,
   "metadata": {},
   "outputs": [
    {
     "name": "stdout",
     "output_type": "stream",
     "text": [
      "25-02-09 15:08:09 - retinaface.h5 will be downloaded from the url https://github.com/serengil/deepface_models/releases/download/v1.0/retinaface.h5\n"
     ]
    },
    {
     "name": "stderr",
     "output_type": "stream",
     "text": [
      "Downloading...\n",
      "From: https://github.com/serengil/deepface_models/releases/download/v1.0/retinaface.h5\n",
      "To: /Users/a_burning_cake/.deepface/weights/retinaface.h5\n",
      "100%|██████████| 119M/119M [00:03<00:00, 30.6MB/s] \n"
     ]
    },
    {
     "data": {
      "text/plain": [
       "[{'face': array([[[0.76078431, 0.72156863, 0.68627451],\n",
       "          [0.76078431, 0.72156863, 0.68627451],\n",
       "          [0.76470588, 0.7254902 , 0.69019608],\n",
       "          ...,\n",
       "          [0.85490196, 0.85882353, 0.82745098],\n",
       "          [0.86666667, 0.87058824, 0.83921569],\n",
       "          [0.85490196, 0.86666667, 0.83921569]],\n",
       "  \n",
       "         [[0.75686275, 0.71764706, 0.68235294],\n",
       "          [0.76078431, 0.72156863, 0.68627451],\n",
       "          [0.76470588, 0.7254902 , 0.69019608],\n",
       "          ...,\n",
       "          [0.85882353, 0.8627451 , 0.83137255],\n",
       "          [0.8627451 , 0.86666667, 0.83529412],\n",
       "          [0.84705882, 0.85882353, 0.83137255]],\n",
       "  \n",
       "         [[0.76078431, 0.71764706, 0.69411765],\n",
       "          [0.76078431, 0.72156863, 0.68627451],\n",
       "          [0.75686275, 0.71764706, 0.68235294],\n",
       "          ...,\n",
       "          [0.85882353, 0.8627451 , 0.83137255],\n",
       "          [0.85882353, 0.8627451 , 0.83921569],\n",
       "          [0.84705882, 0.85098039, 0.82745098]],\n",
       "  \n",
       "         ...,\n",
       "  \n",
       "         [[0.96470588, 0.92941176, 0.89411765],\n",
       "          [0.96470588, 0.93333333, 0.89019608],\n",
       "          [0.96470588, 0.93333333, 0.89019608],\n",
       "          ...,\n",
       "          [0.2745098 , 0.21960784, 0.18431373],\n",
       "          [0.29019608, 0.23137255, 0.20392157],\n",
       "          [0.31764706, 0.26666667, 0.23529412]],\n",
       "  \n",
       "         [[0.96862745, 0.93333333, 0.89803922],\n",
       "          [0.96862745, 0.9372549 , 0.89411765],\n",
       "          [0.96862745, 0.9372549 , 0.89411765],\n",
       "          ...,\n",
       "          [0.2745098 , 0.20784314, 0.17647059],\n",
       "          [0.27058824, 0.21176471, 0.18431373],\n",
       "          [0.29019608, 0.23137255, 0.20392157]],\n",
       "  \n",
       "         [[0.96470588, 0.9372549 , 0.89803922],\n",
       "          [0.96470588, 0.9372549 , 0.89803922],\n",
       "          [0.96470588, 0.9372549 , 0.89803922],\n",
       "          ...,\n",
       "          [0.26666667, 0.2       , 0.16862745],\n",
       "          [0.26666667, 0.2       , 0.16862745],\n",
       "          [0.2745098 , 0.21568627, 0.18823529]]]),\n",
       "  'facial_area': {'x': 1461,\n",
       "   'y': 1182,\n",
       "   'w': 849,\n",
       "   'h': 1229,\n",
       "   'left_eye': (2075, 1673),\n",
       "   'right_eye': (1681, 1681)},\n",
       "  'confidence': 1.0}]"
      ]
     },
     "execution_count": 2,
     "metadata": {},
     "output_type": "execute_result"
    }
   ],
   "source": [
    "mypic = \"/Users/a_burning_cake/Desktop/MIMS/Common Material/Copy of 20230814_ISchoolPortraits_bhs_082.jpg\"\n",
    "\n",
    "result = DeepFace.extract_faces(\n",
    "    img_path= mypic,\n",
    "    detector_backend= 'retinaface',\n",
    "    align= False\n",
    ")\n",
    "result"
   ]
  },
  {
   "cell_type": "code",
   "execution_count": null,
   "metadata": {},
   "outputs": [],
   "source": []
  }
 ],
 "metadata": {
  "kernelspec": {
   "display_name": ".venv_arm64",
   "language": "python",
   "name": "python3"
  },
  "language_info": {
   "codemirror_mode": {
    "name": "ipython",
    "version": 3
   },
   "file_extension": ".py",
   "mimetype": "text/x-python",
   "name": "python",
   "nbconvert_exporter": "python",
   "pygments_lexer": "ipython3",
   "version": "3.11.11"
  }
 },
 "nbformat": 4,
 "nbformat_minor": 2
}
